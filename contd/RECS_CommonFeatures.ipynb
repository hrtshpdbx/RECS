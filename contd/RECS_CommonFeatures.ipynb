{
  "nbformat": 4,
  "nbformat_minor": 0,
  "metadata": {
    "colab": {
      "provenance": []
    },
    "kernelspec": {
      "name": "python3",
      "display_name": "Python 3"
    },
    "language_info": {
      "name": "python"
    }
  },
  "cells": [
    {
      "cell_type": "code",
      "source": [
        "import os\n",
        "import pandas as pd\n",
        "import numpy as np\n",
        "import matplotlib.pyplot as plt"
      ],
      "metadata": {
        "id": "Doa6Exm-yFP_"
      },
      "execution_count": null,
      "outputs": []
    },
    {
      "cell_type": "code",
      "source": [
        "from google.colab import drive\n",
        "drive.mount('/content/drive')"
      ],
      "metadata": {
        "id": "1X8rJCwZwpF_",
        "colab": {
          "base_uri": "https://localhost:8080/"
        },
        "outputId": "fe9e50cd-8e90-4085-90bd-3f740027c471"
      },
      "execution_count": null,
      "outputs": [
        {
          "output_type": "stream",
          "name": "stdout",
          "text": [
            "Mounted at /content/drive\n"
          ]
        }
      ]
    },
    {
      "cell_type": "code",
      "source": [
        "dir = \"/content/drive/MyDrive/RECS_stuff/split_datasets_trim_before_split/\"\n",
        "layout = \"/content/drive/MyDrive/RECS_stuff/public_layout_2009.csv\""
      ],
      "metadata": {
        "id": "_Uou7g6Ow-UN"
      },
      "execution_count": null,
      "outputs": []
    },
    {
      "cell_type": "code",
      "source": [
        "# os.listdir(dir)\n",
        "# prints all 150 file names"
      ],
      "metadata": {
        "id": "8Pdc-kkqyF_a"
      },
      "execution_count": null,
      "outputs": []
    },
    {
      "cell_type": "code",
      "source": [
        "# Load the layout file\n",
        "layout_df = pd.read_csv(layout)\n",
        "\n",
        "# Ensure columns are properly named\n",
        "layout_df.columns = layout_df.columns.str.strip()  # Strip any extra spaces\n",
        "variable_map = dict(zip(layout_df[\"Variable Label\"], layout_df[\"Variable Name\"]))\n",
        "\n",
        "# variable_map"
      ],
      "metadata": {
        "id": "iUhKhgGZ1Cgq"
      },
      "execution_count": null,
      "outputs": []
    },
    {
      "cell_type": "code",
      "source": [
        "files = sorted(os.listdir(dir))\n",
        "len(files)"
      ],
      "metadata": {
        "colab": {
          "base_uri": "https://localhost:8080/"
        },
        "id": "ArVTL6riyHGO",
        "outputId": "3269b514-c175-4736-80f6-5cb3443bade4"
      },
      "execution_count": null,
      "outputs": [
        {
          "output_type": "execute_result",
          "data": {
            "text/plain": [
              "150"
            ]
          },
          "metadata": {},
          "execution_count": 37
        }
      ]
    },
    {
      "cell_type": "code",
      "source": [
        "filename = files[0]\n",
        "path = dir + filename\n",
        "path"
      ],
      "metadata": {
        "colab": {
          "base_uri": "https://localhost:8080/",
          "height": 36
        },
        "id": "5oVyKgzvzRoD",
        "outputId": "bb13a034-9489-45f5-e30a-9c439b273d1e"
      },
      "execution_count": null,
      "outputs": [
        {
          "output_type": "execute_result",
          "data": {
            "text/plain": [
              "'/content/drive/MyDrive/RECS_stuff/split_datasets_trim_before_split/data_2009_trimmed_division10_typehuq1.csv'"
            ],
            "application/vnd.google.colaboratory.intrinsic+json": {
              "type": "string"
            }
          },
          "metadata": {},
          "execution_count": 45
        }
      ]
    },
    {
      "cell_type": "code",
      "source": [
        "df = pd.read_csv(path)\n",
        "df.columns"
      ],
      "metadata": {
        "colab": {
          "base_uri": "https://localhost:8080/"
        },
        "id": "hCD52ZrBzUT2",
        "outputId": "8eb22c89-35b3-4fe0-f8d0-4ba167408f70"
      },
      "execution_count": null,
      "outputs": [
        {
          "output_type": "execute_result",
          "data": {
            "text/plain": [
              "Index(['TYPEHUQ', 'HDD65', 'CDD65', 'Climate_Region_Pub', 'AIA_Zone',\n",
              "       'KOWNRENT', 'YEARMADE', 'BEDROOMS', 'NCOMBATH', 'NHAFBATH',\n",
              "       ...\n",
              "       'OA_LAT', 'GWT', 'DesignDBT1', 'METROMICRO', 'UR', 'NOCRCASH',\n",
              "       'NKRGALNC', 'IECC_Climate_Pub', 'DIVISION', 'TYPEHUQ.1'],\n",
              "      dtype='object', length=161)"
            ]
          },
          "metadata": {},
          "execution_count": 46
        }
      ]
    },
    {
      "cell_type": "code",
      "source": [
        "# for i in range(50):\n",
        "#   filename = files[i]\n",
        "#   path = dir + filename\n",
        "#   df_2009 = pd.read_csv(path)\n",
        "#   # Rename columns using the variable map\n",
        "#   df_2009.rename(columns=variable_map, inplace=True)\n",
        "\n",
        "#   # Save the updated CSV\n",
        "#   df_2009.to_csv(path, index=False)\n",
        "#   print(f\"{i+1}/50\")\n",
        "#   # print(f\"Updated CSV file saved to {output_csv_file}\")\n",
        "\n",
        "\n",
        "## HAD TO UPDATE COL NAMES IN 2009 FILES, SHORTCUTS SEEM TO BE MORE CONSISTENT ACROSS YEARS"
      ],
      "metadata": {
        "id": "zzA2fzimzWLU"
      },
      "execution_count": null,
      "outputs": []
    },
    {
      "cell_type": "code",
      "source": [
        "common_dir = \"/content/drive/MyDrive/split_datasets_trim_before_split_common\"\n",
        "os.makedirs(common_dir)"
      ],
      "metadata": {
        "id": "pEKGP6Qa2DAE"
      },
      "execution_count": null,
      "outputs": []
    },
    {
      "cell_type": "code",
      "source": [
        "# Directories\n",
        "# csv_dir = \"/path/to/dir\"\n",
        "# output_dir = \"/path/to/dir_common\"\n",
        "\n",
        "# Create output directory if it doesn't exist\n",
        "os.makedirs(common_dir, exist_ok=True)\n",
        "\n",
        "# List all CSV files in the directory\n",
        "csv_files = [os.path.join(dir, f) for f in os.listdir(dir) if f.endswith(\".csv\")]\n",
        "\n",
        "# Initialize a set to keep track of common columns\n",
        "common_columns = None\n",
        "\n",
        "# Step 1: Identify common columns\n",
        "for csv_file in csv_files:\n",
        "    print(f\"Processing: {csv_file}\")\n",
        "    df = pd.read_csv(csv_file, nrows=1)  # Only load the first row to get column names\n",
        "    file_columns = set(df.columns)\n",
        "\n",
        "    if common_columns is None:\n",
        "        # Initialize with the columns from the first file\n",
        "        common_columns = file_columns\n",
        "    else:\n",
        "        # Keep only the columns common to all files seen so far\n",
        "        common_columns.intersection_update(file_columns)\n",
        "\n",
        "# Convert the common columns to a sorted list (optional)\n",
        "common_columns = sorted(common_columns)\n",
        "print(f\"Number of Common columns across all files: {len(common_columns)}\")\n",
        "\n",
        "# Step 2: Filter and save each file with only common columns\n",
        "for i in range(len(csv_files)):\n",
        "    csv_file = csv_files[i]\n",
        "    # Load the file\n",
        "    df = pd.read_csv(csv_file)\n",
        "\n",
        "    # Keep only the common columns\n",
        "    df_common = df[common_columns]\n",
        "\n",
        "    # Save the filtered file to the output directory\n",
        "    output_file = os.path.join(common_dir, os.path.basename(csv_file))\n",
        "    df_common.to_csv(output_file, index=False)\n",
        "    print(f\"{(i+1)}/{len(csv_files)}\")\n",
        "\n",
        "print(f\"All files updated and saved to: {common_dir}\")\n"
      ],
      "metadata": {
        "colab": {
          "base_uri": "https://localhost:8080/"
        },
        "id": "Sh1KS5CK3GJN",
        "outputId": "a84a7b07-b2b0-42b1-d869-9c3e986156c4"
      },
      "execution_count": null,
      "outputs": [
        {
          "output_type": "stream",
          "name": "stdout",
          "text": [
            "Processing: /content/drive/MyDrive/RECS_stuff/split_datasets_trim_before_split/data_2009_trimmed_division4_typehuq2.csv\n",
            "Processing: /content/drive/MyDrive/RECS_stuff/split_datasets_trim_before_split/data_2009_trimmed_division4_typehuq5.csv\n",
            "Processing: /content/drive/MyDrive/RECS_stuff/split_datasets_trim_before_split/data_2009_trimmed_division4_typehuq3.csv\n",
            "Processing: /content/drive/MyDrive/RECS_stuff/split_datasets_trim_before_split/data_2009_trimmed_division4_typehuq4.csv\n",
            "Processing: /content/drive/MyDrive/RECS_stuff/split_datasets_trim_before_split/data_2009_trimmed_division4_typehuq1.csv\n",
            "Processing: /content/drive/MyDrive/RECS_stuff/split_datasets_trim_before_split/data_2009_trimmed_division10_typehuq2.csv\n",
            "Processing: /content/drive/MyDrive/RECS_stuff/split_datasets_trim_before_split/data_2009_trimmed_division10_typehuq5.csv\n",
            "Processing: /content/drive/MyDrive/RECS_stuff/split_datasets_trim_before_split/data_2009_trimmed_division10_typehuq3.csv\n",
            "Processing: /content/drive/MyDrive/RECS_stuff/split_datasets_trim_before_split/data_2009_trimmed_division10_typehuq4.csv\n",
            "Processing: /content/drive/MyDrive/RECS_stuff/split_datasets_trim_before_split/data_2009_trimmed_division10_typehuq1.csv\n",
            "Processing: /content/drive/MyDrive/RECS_stuff/split_datasets_trim_before_split/data_2009_trimmed_division1_typehuq2.csv\n",
            "Processing: /content/drive/MyDrive/RECS_stuff/split_datasets_trim_before_split/data_2009_trimmed_division1_typehuq5.csv\n",
            "Processing: /content/drive/MyDrive/RECS_stuff/split_datasets_trim_before_split/data_2009_trimmed_division1_typehuq3.csv\n",
            "Processing: /content/drive/MyDrive/RECS_stuff/split_datasets_trim_before_split/data_2009_trimmed_division1_typehuq4.csv\n",
            "Processing: /content/drive/MyDrive/RECS_stuff/split_datasets_trim_before_split/data_2009_trimmed_division1_typehuq1.csv\n",
            "Processing: /content/drive/MyDrive/RECS_stuff/split_datasets_trim_before_split/data_2009_trimmed_division3_typehuq2.csv\n",
            "Processing: /content/drive/MyDrive/RECS_stuff/split_datasets_trim_before_split/data_2009_trimmed_division3_typehuq5.csv\n",
            "Processing: /content/drive/MyDrive/RECS_stuff/split_datasets_trim_before_split/data_2009_trimmed_division3_typehuq3.csv\n",
            "Processing: /content/drive/MyDrive/RECS_stuff/split_datasets_trim_before_split/data_2009_trimmed_division3_typehuq4.csv\n",
            "Processing: /content/drive/MyDrive/RECS_stuff/split_datasets_trim_before_split/data_2009_trimmed_division3_typehuq1.csv\n",
            "Processing: /content/drive/MyDrive/RECS_stuff/split_datasets_trim_before_split/data_2009_trimmed_division2_typehuq2.csv\n",
            "Processing: /content/drive/MyDrive/RECS_stuff/split_datasets_trim_before_split/data_2009_trimmed_division2_typehuq5.csv\n",
            "Processing: /content/drive/MyDrive/RECS_stuff/split_datasets_trim_before_split/data_2009_trimmed_division2_typehuq3.csv\n",
            "Processing: /content/drive/MyDrive/RECS_stuff/split_datasets_trim_before_split/data_2009_trimmed_division2_typehuq4.csv\n",
            "Processing: /content/drive/MyDrive/RECS_stuff/split_datasets_trim_before_split/data_2009_trimmed_division2_typehuq1.csv\n",
            "Processing: /content/drive/MyDrive/RECS_stuff/split_datasets_trim_before_split/data_2009_trimmed_division5_typehuq2.csv\n",
            "Processing: /content/drive/MyDrive/RECS_stuff/split_datasets_trim_before_split/data_2009_trimmed_division5_typehuq5.csv\n",
            "Processing: /content/drive/MyDrive/RECS_stuff/split_datasets_trim_before_split/data_2009_trimmed_division5_typehuq3.csv\n",
            "Processing: /content/drive/MyDrive/RECS_stuff/split_datasets_trim_before_split/data_2009_trimmed_division5_typehuq4.csv\n",
            "Processing: /content/drive/MyDrive/RECS_stuff/split_datasets_trim_before_split/data_2009_trimmed_division5_typehuq1.csv\n",
            "Processing: /content/drive/MyDrive/RECS_stuff/split_datasets_trim_before_split/data_2009_trimmed_division8_typehuq2.csv\n",
            "Processing: /content/drive/MyDrive/RECS_stuff/split_datasets_trim_before_split/data_2009_trimmed_division8_typehuq5.csv\n",
            "Processing: /content/drive/MyDrive/RECS_stuff/split_datasets_trim_before_split/data_2009_trimmed_division8_typehuq3.csv\n",
            "Processing: /content/drive/MyDrive/RECS_stuff/split_datasets_trim_before_split/data_2009_trimmed_division8_typehuq4.csv\n",
            "Processing: /content/drive/MyDrive/RECS_stuff/split_datasets_trim_before_split/data_2009_trimmed_division8_typehuq1.csv\n",
            "Processing: /content/drive/MyDrive/RECS_stuff/split_datasets_trim_before_split/data_2009_trimmed_division7_typehuq2.csv\n",
            "Processing: /content/drive/MyDrive/RECS_stuff/split_datasets_trim_before_split/data_2009_trimmed_division7_typehuq5.csv\n",
            "Processing: /content/drive/MyDrive/RECS_stuff/split_datasets_trim_before_split/data_2009_trimmed_division7_typehuq3.csv\n",
            "Processing: /content/drive/MyDrive/RECS_stuff/split_datasets_trim_before_split/data_2009_trimmed_division7_typehuq4.csv\n",
            "Processing: /content/drive/MyDrive/RECS_stuff/split_datasets_trim_before_split/data_2009_trimmed_division7_typehuq1.csv\n",
            "Processing: /content/drive/MyDrive/RECS_stuff/split_datasets_trim_before_split/data_2009_trimmed_division6_typehuq2.csv\n",
            "Processing: /content/drive/MyDrive/RECS_stuff/split_datasets_trim_before_split/data_2009_trimmed_division6_typehuq5.csv\n",
            "Processing: /content/drive/MyDrive/RECS_stuff/split_datasets_trim_before_split/data_2009_trimmed_division6_typehuq3.csv\n",
            "Processing: /content/drive/MyDrive/RECS_stuff/split_datasets_trim_before_split/data_2009_trimmed_division6_typehuq4.csv\n",
            "Processing: /content/drive/MyDrive/RECS_stuff/split_datasets_trim_before_split/data_2009_trimmed_division6_typehuq1.csv\n",
            "Processing: /content/drive/MyDrive/RECS_stuff/split_datasets_trim_before_split/data_2009_trimmed_division9_typehuq2.csv\n",
            "Processing: /content/drive/MyDrive/RECS_stuff/split_datasets_trim_before_split/data_2009_trimmed_division9_typehuq5.csv\n",
            "Processing: /content/drive/MyDrive/RECS_stuff/split_datasets_trim_before_split/data_2009_trimmed_division9_typehuq3.csv\n",
            "Processing: /content/drive/MyDrive/RECS_stuff/split_datasets_trim_before_split/data_2009_trimmed_division9_typehuq4.csv\n",
            "Processing: /content/drive/MyDrive/RECS_stuff/split_datasets_trim_before_split/data_2009_trimmed_division9_typehuq1.csv\n",
            "Processing: /content/drive/MyDrive/RECS_stuff/split_datasets_trim_before_split/data_2015_trimmed_division10_typehuq2.csv\n",
            "Processing: /content/drive/MyDrive/RECS_stuff/split_datasets_trim_before_split/data_2015_trimmed_division10_typehuq5.csv\n",
            "Processing: /content/drive/MyDrive/RECS_stuff/split_datasets_trim_before_split/data_2015_trimmed_division10_typehuq4.csv\n",
            "Processing: /content/drive/MyDrive/RECS_stuff/split_datasets_trim_before_split/data_2015_trimmed_division10_typehuq1.csv\n",
            "Processing: /content/drive/MyDrive/RECS_stuff/split_datasets_trim_before_split/data_2015_trimmed_division10_typehuq3.csv\n",
            "Processing: /content/drive/MyDrive/RECS_stuff/split_datasets_trim_before_split/data_2015_trimmed_division7_typehuq2.csv\n",
            "Processing: /content/drive/MyDrive/RECS_stuff/split_datasets_trim_before_split/data_2015_trimmed_division7_typehuq5.csv\n",
            "Processing: /content/drive/MyDrive/RECS_stuff/split_datasets_trim_before_split/data_2015_trimmed_division7_typehuq4.csv\n",
            "Processing: /content/drive/MyDrive/RECS_stuff/split_datasets_trim_before_split/data_2015_trimmed_division7_typehuq1.csv\n",
            "Processing: /content/drive/MyDrive/RECS_stuff/split_datasets_trim_before_split/data_2015_trimmed_division7_typehuq3.csv\n",
            "Processing: /content/drive/MyDrive/RECS_stuff/split_datasets_trim_before_split/data_2015_trimmed_division6_typehuq2.csv\n",
            "Processing: /content/drive/MyDrive/RECS_stuff/split_datasets_trim_before_split/data_2015_trimmed_division6_typehuq5.csv\n",
            "Processing: /content/drive/MyDrive/RECS_stuff/split_datasets_trim_before_split/data_2015_trimmed_division6_typehuq4.csv\n",
            "Processing: /content/drive/MyDrive/RECS_stuff/split_datasets_trim_before_split/data_2015_trimmed_division6_typehuq1.csv\n",
            "Processing: /content/drive/MyDrive/RECS_stuff/split_datasets_trim_before_split/data_2015_trimmed_division6_typehuq3.csv\n",
            "Processing: /content/drive/MyDrive/RECS_stuff/split_datasets_trim_before_split/data_2015_trimmed_division4_typehuq2.csv\n",
            "Processing: /content/drive/MyDrive/RECS_stuff/split_datasets_trim_before_split/data_2015_trimmed_division4_typehuq5.csv\n",
            "Processing: /content/drive/MyDrive/RECS_stuff/split_datasets_trim_before_split/data_2015_trimmed_division4_typehuq4.csv\n",
            "Processing: /content/drive/MyDrive/RECS_stuff/split_datasets_trim_before_split/data_2015_trimmed_division4_typehuq1.csv\n",
            "Processing: /content/drive/MyDrive/RECS_stuff/split_datasets_trim_before_split/data_2015_trimmed_division4_typehuq3.csv\n",
            "Processing: /content/drive/MyDrive/RECS_stuff/split_datasets_trim_before_split/data_2015_trimmed_division2_typehuq2.csv\n",
            "Processing: /content/drive/MyDrive/RECS_stuff/split_datasets_trim_before_split/data_2015_trimmed_division2_typehuq5.csv\n",
            "Processing: /content/drive/MyDrive/RECS_stuff/split_datasets_trim_before_split/data_2015_trimmed_division2_typehuq4.csv\n",
            "Processing: /content/drive/MyDrive/RECS_stuff/split_datasets_trim_before_split/data_2015_trimmed_division2_typehuq1.csv\n",
            "Processing: /content/drive/MyDrive/RECS_stuff/split_datasets_trim_before_split/data_2015_trimmed_division2_typehuq3.csv\n",
            "Processing: /content/drive/MyDrive/RECS_stuff/split_datasets_trim_before_split/data_2015_trimmed_division1_typehuq2.csv\n",
            "Processing: /content/drive/MyDrive/RECS_stuff/split_datasets_trim_before_split/data_2015_trimmed_division1_typehuq5.csv\n",
            "Processing: /content/drive/MyDrive/RECS_stuff/split_datasets_trim_before_split/data_2015_trimmed_division1_typehuq4.csv\n",
            "Processing: /content/drive/MyDrive/RECS_stuff/split_datasets_trim_before_split/data_2015_trimmed_division1_typehuq1.csv\n",
            "Processing: /content/drive/MyDrive/RECS_stuff/split_datasets_trim_before_split/data_2015_trimmed_division1_typehuq3.csv\n",
            "Processing: /content/drive/MyDrive/RECS_stuff/split_datasets_trim_before_split/data_2015_trimmed_division5_typehuq2.csv\n",
            "Processing: /content/drive/MyDrive/RECS_stuff/split_datasets_trim_before_split/data_2015_trimmed_division5_typehuq5.csv\n",
            "Processing: /content/drive/MyDrive/RECS_stuff/split_datasets_trim_before_split/data_2015_trimmed_division5_typehuq4.csv\n",
            "Processing: /content/drive/MyDrive/RECS_stuff/split_datasets_trim_before_split/data_2015_trimmed_division5_typehuq1.csv\n",
            "Processing: /content/drive/MyDrive/RECS_stuff/split_datasets_trim_before_split/data_2015_trimmed_division5_typehuq3.csv\n",
            "Processing: /content/drive/MyDrive/RECS_stuff/split_datasets_trim_before_split/data_2015_trimmed_division3_typehuq2.csv\n",
            "Processing: /content/drive/MyDrive/RECS_stuff/split_datasets_trim_before_split/data_2015_trimmed_division3_typehuq5.csv\n",
            "Processing: /content/drive/MyDrive/RECS_stuff/split_datasets_trim_before_split/data_2015_trimmed_division3_typehuq4.csv\n",
            "Processing: /content/drive/MyDrive/RECS_stuff/split_datasets_trim_before_split/data_2015_trimmed_division3_typehuq1.csv\n",
            "Processing: /content/drive/MyDrive/RECS_stuff/split_datasets_trim_before_split/data_2015_trimmed_division3_typehuq3.csv\n",
            "Processing: /content/drive/MyDrive/RECS_stuff/split_datasets_trim_before_split/data_2015_trimmed_division8_typehuq2.csv\n",
            "Processing: /content/drive/MyDrive/RECS_stuff/split_datasets_trim_before_split/data_2015_trimmed_division8_typehuq5.csv\n",
            "Processing: /content/drive/MyDrive/RECS_stuff/split_datasets_trim_before_split/data_2015_trimmed_division8_typehuq4.csv\n",
            "Processing: /content/drive/MyDrive/RECS_stuff/split_datasets_trim_before_split/data_2015_trimmed_division8_typehuq1.csv\n",
            "Processing: /content/drive/MyDrive/RECS_stuff/split_datasets_trim_before_split/data_2015_trimmed_division8_typehuq3.csv\n",
            "Processing: /content/drive/MyDrive/RECS_stuff/split_datasets_trim_before_split/data_2015_trimmed_division9_typehuq2.csv\n",
            "Processing: /content/drive/MyDrive/RECS_stuff/split_datasets_trim_before_split/data_2015_trimmed_division9_typehuq5.csv\n",
            "Processing: /content/drive/MyDrive/RECS_stuff/split_datasets_trim_before_split/data_2015_trimmed_division9_typehuq4.csv\n",
            "Processing: /content/drive/MyDrive/RECS_stuff/split_datasets_trim_before_split/data_2015_trimmed_division9_typehuq1.csv\n",
            "Processing: /content/drive/MyDrive/RECS_stuff/split_datasets_trim_before_split/data_2015_trimmed_division9_typehuq3.csv\n",
            "Processing: /content/drive/MyDrive/RECS_stuff/split_datasets_trim_before_split/data_2020_trimmed_division4_typehuq2.csv\n",
            "Processing: /content/drive/MyDrive/RECS_stuff/split_datasets_trim_before_split/data_2020_trimmed_division4_typehuq5.csv\n",
            "Processing: /content/drive/MyDrive/RECS_stuff/split_datasets_trim_before_split/data_2020_trimmed_division4_typehuq3.csv\n",
            "Processing: /content/drive/MyDrive/RECS_stuff/split_datasets_trim_before_split/data_2020_trimmed_division4_typehuq1.csv\n",
            "Processing: /content/drive/MyDrive/RECS_stuff/split_datasets_trim_before_split/data_2020_trimmed_division4_typehuq4.csv\n",
            "Processing: /content/drive/MyDrive/RECS_stuff/split_datasets_trim_before_split/data_2020_trimmed_division9_typehuq2.csv\n",
            "Processing: /content/drive/MyDrive/RECS_stuff/split_datasets_trim_before_split/data_2020_trimmed_division9_typehuq5.csv\n",
            "Processing: /content/drive/MyDrive/RECS_stuff/split_datasets_trim_before_split/data_2020_trimmed_division9_typehuq3.csv\n",
            "Processing: /content/drive/MyDrive/RECS_stuff/split_datasets_trim_before_split/data_2020_trimmed_division9_typehuq1.csv\n",
            "Processing: /content/drive/MyDrive/RECS_stuff/split_datasets_trim_before_split/data_2020_trimmed_division9_typehuq4.csv\n",
            "Processing: /content/drive/MyDrive/RECS_stuff/split_datasets_trim_before_split/data_2020_trimmed_division7_typehuq2.csv\n",
            "Processing: /content/drive/MyDrive/RECS_stuff/split_datasets_trim_before_split/data_2020_trimmed_division7_typehuq5.csv\n",
            "Processing: /content/drive/MyDrive/RECS_stuff/split_datasets_trim_before_split/data_2020_trimmed_division7_typehuq3.csv\n",
            "Processing: /content/drive/MyDrive/RECS_stuff/split_datasets_trim_before_split/data_2020_trimmed_division7_typehuq1.csv\n",
            "Processing: /content/drive/MyDrive/RECS_stuff/split_datasets_trim_before_split/data_2020_trimmed_division7_typehuq4.csv\n",
            "Processing: /content/drive/MyDrive/RECS_stuff/split_datasets_trim_before_split/data_2020_trimmed_division2_typehuq2.csv\n",
            "Processing: /content/drive/MyDrive/RECS_stuff/split_datasets_trim_before_split/data_2020_trimmed_division2_typehuq5.csv\n",
            "Processing: /content/drive/MyDrive/RECS_stuff/split_datasets_trim_before_split/data_2020_trimmed_division2_typehuq3.csv\n",
            "Processing: /content/drive/MyDrive/RECS_stuff/split_datasets_trim_before_split/data_2020_trimmed_division2_typehuq1.csv\n",
            "Processing: /content/drive/MyDrive/RECS_stuff/split_datasets_trim_before_split/data_2020_trimmed_division2_typehuq4.csv\n",
            "Processing: /content/drive/MyDrive/RECS_stuff/split_datasets_trim_before_split/data_2020_trimmed_division1_typehuq2.csv\n",
            "Processing: /content/drive/MyDrive/RECS_stuff/split_datasets_trim_before_split/data_2020_trimmed_division1_typehuq5.csv\n",
            "Processing: /content/drive/MyDrive/RECS_stuff/split_datasets_trim_before_split/data_2020_trimmed_division1_typehuq3.csv\n",
            "Processing: /content/drive/MyDrive/RECS_stuff/split_datasets_trim_before_split/data_2020_trimmed_division1_typehuq1.csv\n",
            "Processing: /content/drive/MyDrive/RECS_stuff/split_datasets_trim_before_split/data_2020_trimmed_division1_typehuq4.csv\n",
            "Processing: /content/drive/MyDrive/RECS_stuff/split_datasets_trim_before_split/data_2020_trimmed_division6_typehuq2.csv\n",
            "Processing: /content/drive/MyDrive/RECS_stuff/split_datasets_trim_before_split/data_2020_trimmed_division6_typehuq5.csv\n",
            "Processing: /content/drive/MyDrive/RECS_stuff/split_datasets_trim_before_split/data_2020_trimmed_division6_typehuq3.csv\n",
            "Processing: /content/drive/MyDrive/RECS_stuff/split_datasets_trim_before_split/data_2020_trimmed_division6_typehuq1.csv\n",
            "Processing: /content/drive/MyDrive/RECS_stuff/split_datasets_trim_before_split/data_2020_trimmed_division6_typehuq4.csv\n",
            "Processing: /content/drive/MyDrive/RECS_stuff/split_datasets_trim_before_split/data_2020_trimmed_division8_typehuq2.csv\n",
            "Processing: /content/drive/MyDrive/RECS_stuff/split_datasets_trim_before_split/data_2020_trimmed_division8_typehuq5.csv\n",
            "Processing: /content/drive/MyDrive/RECS_stuff/split_datasets_trim_before_split/data_2020_trimmed_division8_typehuq3.csv\n",
            "Processing: /content/drive/MyDrive/RECS_stuff/split_datasets_trim_before_split/data_2020_trimmed_division8_typehuq1.csv\n",
            "Processing: /content/drive/MyDrive/RECS_stuff/split_datasets_trim_before_split/data_2020_trimmed_division8_typehuq4.csv\n",
            "Processing: /content/drive/MyDrive/RECS_stuff/split_datasets_trim_before_split/data_2020_trimmed_division5_typehuq2.csv\n",
            "Processing: /content/drive/MyDrive/RECS_stuff/split_datasets_trim_before_split/data_2020_trimmed_division5_typehuq5.csv\n",
            "Processing: /content/drive/MyDrive/RECS_stuff/split_datasets_trim_before_split/data_2020_trimmed_division5_typehuq3.csv\n",
            "Processing: /content/drive/MyDrive/RECS_stuff/split_datasets_trim_before_split/data_2020_trimmed_division5_typehuq1.csv\n",
            "Processing: /content/drive/MyDrive/RECS_stuff/split_datasets_trim_before_split/data_2020_trimmed_division5_typehuq4.csv\n",
            "Processing: /content/drive/MyDrive/RECS_stuff/split_datasets_trim_before_split/data_2020_trimmed_division0_typehuq2.csv\n",
            "Processing: /content/drive/MyDrive/RECS_stuff/split_datasets_trim_before_split/data_2020_trimmed_division0_typehuq5.csv\n",
            "Processing: /content/drive/MyDrive/RECS_stuff/split_datasets_trim_before_split/data_2020_trimmed_division0_typehuq3.csv\n",
            "Processing: /content/drive/MyDrive/RECS_stuff/split_datasets_trim_before_split/data_2020_trimmed_division0_typehuq1.csv\n",
            "Processing: /content/drive/MyDrive/RECS_stuff/split_datasets_trim_before_split/data_2020_trimmed_division0_typehuq4.csv\n",
            "Processing: /content/drive/MyDrive/RECS_stuff/split_datasets_trim_before_split/data_2020_trimmed_division3_typehuq2.csv\n",
            "Processing: /content/drive/MyDrive/RECS_stuff/split_datasets_trim_before_split/data_2020_trimmed_division3_typehuq5.csv\n",
            "Processing: /content/drive/MyDrive/RECS_stuff/split_datasets_trim_before_split/data_2020_trimmed_division3_typehuq3.csv\n",
            "Processing: /content/drive/MyDrive/RECS_stuff/split_datasets_trim_before_split/data_2020_trimmed_division3_typehuq1.csv\n",
            "Processing: /content/drive/MyDrive/RECS_stuff/split_datasets_trim_before_split/data_2020_trimmed_division3_typehuq4.csv\n",
            "Number of Common columns across all files: 51\n",
            "1/150\n",
            "2/150\n",
            "3/150\n",
            "4/150\n",
            "5/150\n",
            "6/150\n",
            "7/150\n",
            "8/150\n",
            "9/150\n",
            "10/150\n",
            "11/150\n",
            "12/150\n",
            "13/150\n",
            "14/150\n",
            "15/150\n",
            "16/150\n",
            "17/150\n",
            "18/150\n",
            "19/150\n",
            "20/150\n",
            "21/150\n",
            "22/150\n",
            "23/150\n",
            "24/150\n",
            "25/150\n",
            "26/150\n",
            "27/150\n",
            "28/150\n",
            "29/150\n",
            "30/150\n",
            "31/150\n",
            "32/150\n",
            "33/150\n",
            "34/150\n",
            "35/150\n",
            "36/150\n",
            "37/150\n",
            "38/150\n",
            "39/150\n",
            "40/150\n",
            "41/150\n",
            "42/150\n",
            "43/150\n",
            "44/150\n",
            "45/150\n",
            "46/150\n",
            "47/150\n",
            "48/150\n",
            "49/150\n",
            "50/150\n",
            "51/150\n",
            "52/150\n",
            "53/150\n",
            "54/150\n",
            "55/150\n",
            "56/150\n",
            "57/150\n",
            "58/150\n",
            "59/150\n",
            "60/150\n",
            "61/150\n",
            "62/150\n",
            "63/150\n",
            "64/150\n",
            "65/150\n",
            "66/150\n",
            "67/150\n",
            "68/150\n",
            "69/150\n",
            "70/150\n",
            "71/150\n",
            "72/150\n",
            "73/150\n",
            "74/150\n",
            "75/150\n",
            "76/150\n",
            "77/150\n",
            "78/150\n",
            "79/150\n",
            "80/150\n",
            "81/150\n",
            "82/150\n",
            "83/150\n",
            "84/150\n",
            "85/150\n",
            "86/150\n",
            "87/150\n",
            "88/150\n",
            "89/150\n",
            "90/150\n",
            "91/150\n",
            "92/150\n",
            "93/150\n",
            "94/150\n",
            "95/150\n",
            "96/150\n",
            "97/150\n",
            "98/150\n",
            "99/150\n",
            "100/150\n",
            "101/150\n",
            "102/150\n",
            "103/150\n",
            "104/150\n",
            "105/150\n",
            "106/150\n",
            "107/150\n",
            "108/150\n",
            "109/150\n",
            "110/150\n",
            "111/150\n",
            "112/150\n",
            "113/150\n",
            "114/150\n",
            "115/150\n",
            "116/150\n",
            "117/150\n",
            "118/150\n",
            "119/150\n",
            "120/150\n",
            "121/150\n",
            "122/150\n",
            "123/150\n",
            "124/150\n",
            "125/150\n",
            "126/150\n",
            "127/150\n",
            "128/150\n",
            "129/150\n",
            "130/150\n",
            "131/150\n",
            "132/150\n",
            "133/150\n",
            "134/150\n",
            "135/150\n",
            "136/150\n",
            "137/150\n",
            "138/150\n",
            "139/150\n",
            "140/150\n",
            "141/150\n",
            "142/150\n",
            "143/150\n",
            "144/150\n",
            "145/150\n",
            "146/150\n",
            "147/150\n",
            "148/150\n",
            "149/150\n",
            "150/150\n",
            "All files updated and saved to: /content/drive/MyDrive/split_datasets_trim_before_split_common\n"
          ]
        }
      ]
    },
    {
      "cell_type": "code",
      "source": [
        "common_files = os.listdir(common_dir)\n",
        "len(common_files)"
      ],
      "metadata": {
        "colab": {
          "base_uri": "https://localhost:8080/"
        },
        "id": "sf5F5RqY3t4y",
        "outputId": "653449db-3241-4325-82be-824dc98ec295"
      },
      "execution_count": null,
      "outputs": [
        {
          "output_type": "execute_result",
          "data": {
            "text/plain": [
              "150"
            ]
          },
          "metadata": {},
          "execution_count": 52
        }
      ]
    },
    {
      "cell_type": "code",
      "source": [
        "base_cols = pd.read_csv(common_dir + \"/\" + common_files[0] ).columns\n",
        "list(base_cols)\n",
        "# for i in range(common_files)"
      ],
      "metadata": {
        "colab": {
          "base_uri": "https://localhost:8080/"
        },
        "id": "A8h3vSR23-gg",
        "outputId": "20b89b1b-0a19-4b42-ed64-e14d27ba3a10"
      },
      "execution_count": null,
      "outputs": [
        {
          "output_type": "execute_result",
          "data": {
            "text/plain": [
              "['AIRCOND',\n",
              " 'BEDROOMS',\n",
              " 'CWASHER',\n",
              " 'DISHWASH',\n",
              " 'DIVISION',\n",
              " 'DOLELRFG',\n",
              " 'DOLLAREL',\n",
              " 'DRYER',\n",
              " 'ELFOOD',\n",
              " 'ELWARM',\n",
              " 'EQUIPAUX',\n",
              " 'FUELH2O',\n",
              " 'FUELHEAT',\n",
              " 'GWT',\n",
              " 'ICE',\n",
              " 'KOWNRENT',\n",
              " 'KWH',\n",
              " 'KWHCOL',\n",
              " 'KWHRFG',\n",
              " 'KWHSPH',\n",
              " 'KWHWTH',\n",
              " 'MICRO',\n",
              " 'MONEYPY',\n",
              " 'NCOMBATH',\n",
              " 'NHAFBATH',\n",
              " 'NHSLDMEM',\n",
              " 'NUMCFAN',\n",
              " 'NUMFRIG',\n",
              " 'OTHROOMS',\n",
              " 'OUTGRILL',\n",
              " 'OVEN',\n",
              " 'RECBATH',\n",
              " 'SIZRFRI1',\n",
              " 'TOTALBTU',\n",
              " 'TOTALBTUWTH',\n",
              " 'TOTALDOL',\n",
              " 'TOTALDOLWTH',\n",
              " 'TOTCSQFT',\n",
              " 'TOTHSQFT',\n",
              " 'TOTROOMS',\n",
              " 'TVCOLOR',\n",
              " 'TVONWE1',\n",
              " 'TVSIZE1',\n",
              " 'TYPEHUQ',\n",
              " 'UGCOOK',\n",
              " 'UGWARM',\n",
              " 'UGWATER',\n",
              " 'USEEL',\n",
              " 'WINDOWS',\n",
              " 'ZFUELH2O',\n",
              " 'ZWHEATAGE']"
            ]
          },
          "metadata": {},
          "execution_count": 55
        }
      ]
    },
    {
      "cell_type": "code",
      "source": [
        "for i in range(1, len(common_files)):\n",
        "  new_cols = pd.read_csv(common_dir + \"/\" + common_files[i]).columns\n",
        "  if(list(new_cols)==list(base_cols)):\n",
        "    pass\n",
        "  else:\n",
        "    print(f\"issue at file number {i}\")\n",
        "    break\n",
        "  base_cols = new_cols\n",
        "  if(i==len(common_files)-1):\n",
        "    print(\"All common verified\")"
      ],
      "metadata": {
        "colab": {
          "base_uri": "https://localhost:8080/"
        },
        "id": "wdiKOeFX4Nsr",
        "outputId": "8ff55b92-d670-441d-919a-96c924174b5c"
      },
      "execution_count": null,
      "outputs": [
        {
          "output_type": "stream",
          "name": "stdout",
          "text": [
            "All common verified\n"
          ]
        }
      ]
    },
    {
      "cell_type": "code",
      "source": [],
      "metadata": {
        "id": "z5vpwqqB4drN"
      },
      "execution_count": null,
      "outputs": []
    }
  ]
}